{
 "cells": [
  {
   "cell_type": "markdown",
   "metadata": {},
   "source": [
    "# Tarea 1\n",
    "## Luis Morera Claramunt"
   ]
  },
  {
   "cell_type": "markdown",
   "metadata": {},
   "source": [
    "Se importan las librerías necesarias"
   ]
  },
  {
   "cell_type": "code",
   "execution_count": 1,
   "metadata": {},
   "outputs": [],
   "source": [
    "from pyspark.sql import SparkSession\n",
    "\n",
    "spark=SparkSession.builder.appName('data_processing').getOrCreate()\n",
    "\n",
    "import pyspark.sql.functions as F\n",
    "from pyspark.sql.types import *"
   ]
  },
  {
   "cell_type": "code",
   "execution_count": 2,
   "metadata": {},
   "outputs": [],
   "source": [
    "import findspark\n",
    "findspark.init('/Users/Luis/Desktop/spark/spark-2.4.4-bin-hadoop2.7')\n",
    "\n",
    "from datetime import datetime\n",
    "from pyspark.sql import SparkSession\n",
    "from pyspark.sql.functions import col, date_format, udf \n",
    "from pyspark.sql.types import DateType"
   ]
  },
  {
   "cell_type": "markdown",
   "metadata": {},
   "source": [
    "Se carga la base de datos"
   ]
  },
  {
   "cell_type": "code",
   "execution_count": 3,
   "metadata": {},
   "outputs": [],
   "source": [
    "df=spark.read.csv(\"2019_opens_athletes.csv\",header=True, inferSchema=True)"
   ]
  },
  {
   "cell_type": "markdown",
   "metadata": {},
   "source": [
    "Numero de filas y columnas del set de datos"
   ]
  },
  {
   "cell_type": "code",
   "execution_count": 4,
   "metadata": {},
   "outputs": [
    {
     "name": "stdout",
     "output_type": "stream",
     "text": [
      "Filas 572653\n",
      "Columnas 19\n"
     ]
    }
   ],
   "source": [
    "print(\"Filas\",df.count())\n",
    "print(\"Columnas\",len(df.columns))"
   ]
  },
  {
   "cell_type": "markdown",
   "metadata": {},
   "source": [
    "Columnas y tipo de datos que contienen"
   ]
  },
  {
   "cell_type": "code",
   "execution_count": 5,
   "metadata": {},
   "outputs": [
    {
     "name": "stdout",
     "output_type": "stream",
     "text": [
      "root\n",
      " |-- competitorid: integer (nullable = true)\n",
      " |-- competitorname: string (nullable = true)\n",
      " |-- firstname: string (nullable = true)\n",
      " |-- lastname: string (nullable = true)\n",
      " |-- postcompstatus: string (nullable = true)\n",
      " |-- gender: string (nullable = true)\n",
      " |-- profilepics3key: string (nullable = true)\n",
      " |-- countryoforigincode: string (nullable = true)\n",
      " |-- countryoforiginname: string (nullable = true)\n",
      " |-- divisionid: integer (nullable = true)\n",
      " |-- affiliateid: integer (nullable = true)\n",
      " |-- affiliatename: string (nullable = true)\n",
      " |-- age: integer (nullable = true)\n",
      " |-- height: double (nullable = true)\n",
      " |-- weight: double (nullable = true)\n",
      " |-- overallrank: integer (nullable = true)\n",
      " |-- overallscore: integer (nullable = true)\n",
      " |-- is_scaled: integer (nullable = true)\n",
      " |-- division: string (nullable = true)\n",
      "\n"
     ]
    }
   ],
   "source": [
    "df.printSchema()"
   ]
  },
  {
   "cell_type": "markdown",
   "metadata": {},
   "source": [
    "Se va a trabaja con 10 columnas para poder tener una mejor visualizacion de la tabla en el notebook"
   ]
  },
  {
   "cell_type": "code",
   "execution_count": 6,
   "metadata": {},
   "outputs": [],
   "source": [
    "cols_to_use = ['gender', 'countryoforiginname', 'height', 'weight', 'age', 'overallrank', 'division', 'is_scaled']\n",
    "df = df.select(cols_to_use)"
   ]
  },
  {
   "cell_type": "code",
   "execution_count": 7,
   "metadata": {},
   "outputs": [
    {
     "name": "stdout",
     "output_type": "stream",
     "text": [
      "+------+-------------------+------+------+---+-----------+-------------+---------+\n",
      "|gender|countryoforiginname|height|weight|age|overallrank|     division|is_scaled|\n",
      "+------+-------------------+------+------+---+-----------+-------------+---------+\n",
      "|     F|     United Kingdom|   1.7| 61.23| 37|          1|Women (35-39)|        0|\n",
      "|     F|             Brazil|  1.74|  73.0| 36|          2|Women (35-39)|        0|\n",
      "|     F|      United States|  1.57| 62.14| 35|          3|Women (35-39)|        0|\n",
      "|     F|              Italy|   1.7|  71.0| 35|          4|Women (35-39)|        0|\n",
      "|     F|      United States|  1.55| 61.23| 36|          5|Women (35-39)|        0|\n",
      "|     F|      United States|  1.65| 66.68| 36|          6|Women (35-39)|        0|\n",
      "|     F|             Brazil|   1.7|  72.0| 36|          7|Women (35-39)|        0|\n",
      "|     F|      United States|  1.75| 68.95| 38|          8|Women (35-39)|        0|\n",
      "|     F|        Switzerland|  1.64|  62.0| 38|          9|Women (35-39)|        0|\n",
      "|     F|      United States|  1.67| 64.86| 36|         10|Women (35-39)|        0|\n",
      "+------+-------------------+------+------+---+-----------+-------------+---------+\n",
      "only showing top 10 rows\n",
      "\n"
     ]
    }
   ],
   "source": [
    "df.show(10)"
   ]
  },
  {
   "cell_type": "markdown",
   "metadata": {},
   "source": [
    "Cantidad de atletas por categoría"
   ]
  },
  {
   "cell_type": "code",
   "execution_count": 10,
   "metadata": {},
   "outputs": [
    {
     "name": "stdout",
     "output_type": "stream",
     "text": [
      "+-------------+------+\n",
      "|     division| count|\n",
      "+-------------+------+\n",
      "|Women (35-39)| 31934|\n",
      "|Women (45-49)| 13632|\n",
      "|Women (50-54)|  7972|\n",
      "|  Men (45-49)| 17894|\n",
      "|  Men (50-54)|  9476|\n",
      "|          Men|210150|\n",
      "|    Men (60+)|  3832|\n",
      "|        Women|172687|\n",
      "|  Men (35-39)| 42248|\n",
      "|Women (55-59)|  4560|\n",
      "|Women (40-44)| 21452|\n",
      "|  Men (55-59)|  5247|\n",
      "|  Men (40-44)| 28384|\n",
      "|  Women (60+)|  3185|\n",
      "+-------------+------+\n",
      "\n"
     ]
    }
   ],
   "source": [
    "df.groupBy('division').count().show()"
   ]
  },
  {
   "cell_type": "markdown",
   "metadata": {},
   "source": [
    "Se filtra por campeones en categoría RX (es decir, la variable \"is_scaled\" = 0), y se ordena por categorías para separar categoría femenina de la masculina. Se puede observar como la tendencia es que las probabilidades de que el campeón provenga de norteamérica son muchos más altas que de algúna otra parte del mundo."
   ]
  },
  {
   "cell_type": "code",
   "execution_count": 11,
   "metadata": {},
   "outputs": [
    {
     "name": "stdout",
     "output_type": "stream",
     "text": [
      "+------+-------------------+------+------+---+-----------+-------------+---------+\n",
      "|gender|countryoforiginname|height|weight|age|overallrank|     division|is_scaled|\n",
      "+------+-------------------+------+------+---+-----------+-------------+---------+\n",
      "|     M|      United States|   1.7| 88.45| 29|          1|          Men|        0|\n",
      "|     M|       South Africa|  1.85| 88.45| 35|          1|  Men (35-39)|        0|\n",
      "|     M|             Canada|  1.86| 90.72| 42|          1|  Men (40-44)|        0|\n",
      "|     M|      United States|  1.83| 96.16| 49|          1|  Men (45-49)|        0|\n",
      "|     M|      United States|  1.83| 88.45| 50|          1|  Men (50-54)|        0|\n",
      "|     M|             Canada|  1.78| 84.82| 55|          1|  Men (55-59)|        0|\n",
      "|     M|      United States|   1.7| 74.39| 60|          1|    Men (60+)|        0|\n",
      "|     F|            Iceland|  1.73|  69.0| 26|          1|        Women|        0|\n",
      "|     F|     United Kingdom|   1.7| 61.23| 37|          1|Women (35-39)|        0|\n",
      "|     F|          Australia|  1.61|  58.0| 40|          1|Women (40-44)|        0|\n",
      "|     F|      United States|  1.63| 66.68| 45|          1|Women (45-49)|        0|\n",
      "|     F|      United States|  null|  null| 45|          1|Women (45-49)|        0|\n",
      "|     F|      United States|   1.7| 64.41| 50|          1|Women (50-54)|        0|\n",
      "|     F|             Canada|  1.65|  63.5| 55|          1|Women (55-59)|        0|\n",
      "|     F|             Canada|  1.65| 55.79| 60|          1|  Women (60+)|        0|\n",
      "+------+-------------------+------+------+---+-----------+-------------+---------+\n",
      "\n"
     ]
    }
   ],
   "source": [
    "total_rxchamps = df.where((df['overallrank']==1) & (df['is_scaled']==0)).sort('division', ascending=True)\n",
    "total_rxchamps.show()"
   ]
  },
  {
   "cell_type": "markdown",
   "metadata": {},
   "source": [
    "En la categoría modificado se muestran resultados similares, sin embargo, es interesante resaltar como en la categoría femenina hay un claro dominio por parte de Estados Unidos. "
   ]
  },
  {
   "cell_type": "code",
   "execution_count": 12,
   "metadata": {},
   "outputs": [
    {
     "name": "stdout",
     "output_type": "stream",
     "text": [
      "+------+-------------------+------+------+---+-----------+--------+---------+\n",
      "|gender|countryoforiginname|height|weight|age|overallrank|division|is_scaled|\n",
      "+------+-------------------+------+------+---+-----------+--------+---------+\n",
      "|     M|              Italy|  1.77|  81.0| 20|          1|     Men|        1|\n",
      "|     M|             Canada|  1.75| 81.65| 43|          2|     Men|        1|\n",
      "|     M|             Canada|  null|  null| 30|          3|     Men|        1|\n",
      "|     M|      United States|   1.7| 76.66| 35|          4|     Men|        1|\n",
      "|     M|      United States|  1.75| 73.94| 31|          5|     Men|        1|\n",
      "|     M|     United Kingdom|  null|  83.0| 27|          6|     Men|        1|\n",
      "|     M|             Sweden|  1.72|  80.0| 27|          7|     Men|        1|\n",
      "|     M|      United States|  null|  null| 44|          8|     Men|        1|\n",
      "|     M| Russian Federation|  1.83|  91.0| 22|          9|     Men|        1|\n",
      "|     M|            Ukraine|  null|  null| 30|         10|     Men|        1|\n",
      "|     M| Korea, Republic of|  null|  null| 28|         11|     Men|        1|\n",
      "|     M|        New Zealand|  1.73|  84.0| 25|         12|     Men|        1|\n",
      "|     M|      United States|  null|  null| 31|         13|     Men|        1|\n",
      "|     M|              Egypt|  null|  null| 22|         14|     Men|        1|\n",
      "|     M| Korea, Republic of|  null|  null| 27|         15|     Men|        1|\n",
      "|     M|              Italy|  1.93| 100.0| 30|         16|     Men|        1|\n",
      "|     M|            Ukraine|  null|  null| 46|         17|     Men|        1|\n",
      "|     M|        New Zealand|  1.71|  72.0| 28|         18|     Men|        1|\n",
      "|     M|        New Zealand|  1.78| 87.09| 44|         19|     Men|        1|\n",
      "|     M|      United States|  1.75| 72.57| 35|         20|     Men|        1|\n",
      "+------+-------------------+------+------+---+-----------+--------+---------+\n",
      "only showing top 20 rows\n",
      "\n"
     ]
    }
   ],
   "source": [
    "total_scaledchamps = df.where((df['division']=='Men') & (df['is_scaled']==1)).sort('division', ascending=True)\n",
    "total_scaledchamps.show()"
   ]
  },
  {
   "cell_type": "markdown",
   "metadata": {},
   "source": [
    "Se descrubrió que dentro de los mejores 50 atletas de cada categoría, no hay diferencia significativa de peso ni altura entre las categorías RX y modificado. "
   ]
  },
  {
   "cell_type": "code",
   "execution_count": 13,
   "metadata": {},
   "outputs": [
    {
     "name": "stdout",
     "output_type": "stream",
     "text": [
      "+---------+-------------+------------------+-----------------+\n",
      "|is_scaled|     division|       avg(height)|      avg(weight)|\n",
      "+---------+-------------+------------------+-----------------+\n",
      "|        1|          Men|1.7824734513274212|85.42082147838241|\n",
      "|        0|          Men| 1.794954029605374|85.15681010861435|\n",
      "|        1|  Men (35-39)|1.7726586345381496|87.19644274809141|\n",
      "|        0|  Men (35-39)|1.7980255905512568|86.26788972064949|\n",
      "|        0|  Men (40-44)|1.8032583675866107|86.85001411892374|\n",
      "|        1|  Men (40-44)|1.7736781609195387|87.83451747088172|\n",
      "|        0|  Men (45-49)|1.7866139447823863|86.95790570461126|\n",
      "|        1|  Men (45-49)|1.7592940038684723|87.38488728584302|\n",
      "|        1|  Men (50-54)| 1.791476251604621|88.68226840855093|\n",
      "|        0|  Men (50-54)|1.7848454746136746|86.84524156636708|\n",
      "|        0|  Men (55-59)|1.7764210526315762|85.71646047072977|\n",
      "|        1|  Men (55-59)|1.7292233009708728|89.95551622418897|\n",
      "|        1|    Men (60+)|1.7613429256594697|84.79444924406056|\n",
      "|        0|    Men (60+)|1.7683511777302001|83.40821258341256|\n",
      "|        1|        Women|1.6707772425465246|64.91818638177354|\n",
      "|        0|        Women|1.6524389001250173|64.33116092127503|\n",
      "|        1|Women (35-39)|1.6425260029717748| 65.5862241887905|\n",
      "|        0|Women (35-39)| 1.647398640347284|64.90104922688506|\n",
      "|        1|Women (40-44)|1.6109159584513775|  65.385952170062|\n",
      "|        0|Women (40-44)|   1.6384667693097|63.30530915287174|\n",
      "+---------+-------------+------------------+-----------------+\n",
      "only showing top 20 rows\n",
      "\n"
     ]
    }
   ],
   "source": [
    "df.filter(df['overallrank']>50).groupBy('is_scaled', 'division').agg(F.avg('height'), F.avg('weight')).sort('division', ascending=True).show()"
   ]
  },
  {
   "cell_type": "markdown",
   "metadata": {},
   "source": [
    "Se ordenan los datos para observar los paises que aportaron mayor cantidad de participantes"
   ]
  },
  {
   "cell_type": "code",
   "execution_count": 20,
   "metadata": {},
   "outputs": [
    {
     "name": "stdout",
     "output_type": "stream",
     "text": [
      "+-------------------+------+\n",
      "|countryoforiginname| count|\n",
      "+-------------------+------+\n",
      "|      United States|302505|\n",
      "|             Canada| 31437|\n",
      "|             Brazil| 30226|\n",
      "|     United Kingdom| 29020|\n",
      "|          Australia| 28781|\n",
      "|             France| 23364|\n",
      "|            Germany|  9205|\n",
      "|              Spain|  8157|\n",
      "|              Italy|  7700|\n",
      "|        Netherlands|  7478|\n",
      "|       South Africa|  7294|\n",
      "|             Sweden|  6699|\n",
      "|        New Zealand|  5515|\n",
      "|             Norway|  5099|\n",
      "| Korea, Republic of|  5055|\n",
      "|            Ireland|  4411|\n",
      "|        Switzerland|  4375|\n",
      "|            Denmark|  3788|\n",
      "|             Mexico|  3732|\n",
      "|            Finland|  3618|\n",
      "| Russian Federation|  3078|\n",
      "|            Belgium|  2486|\n",
      "|              China|  2288|\n",
      "|           Portugal|  2241|\n",
      "|              India|  2211|\n",
      "|            Iceland|  2138|\n",
      "|            Austria|  1605|\n",
      "|          Guatemala|  1438|\n",
      "|              Japan|  1207|\n",
      "|         Costa Rica|  1173|\n",
      "+-------------------+------+\n",
      "only showing top 30 rows\n",
      "\n"
     ]
    }
   ],
   "source": [
    "df.groupBy('countryoforiginname').count().sort('count', ascending=False).show(30)"
   ]
  },
  {
   "cell_type": "markdown",
   "metadata": {},
   "source": [
    "### Comandos no vistos en clase"
   ]
  },
  {
   "cell_type": "markdown",
   "metadata": {},
   "source": [
    "El comando when es utilizado para evaluar una o más condiciones y devuelve un resultado asociado a ese criterio. Es útil a la hora de transformar los datos, por ejemplo, pasar de datos categoricos a numericos. A continuación se utiliza el comando para pasar la variable de genero a numerica.\n",
    "\n",
    "Además del comando when, también se utiliza el comando withColumn, el cual crea una nueva columna a partir de los resultados obtenidos. Es util en el caso de no querer perder la información original y agregar los nuevos datos."
   ]
  },
  {
   "cell_type": "code",
   "execution_count": 34,
   "metadata": {},
   "outputs": [
    {
     "name": "stdout",
     "output_type": "stream",
     "text": [
      "+------+-------------------+------+------+---+-----------+-------------+---------+----------+\n",
      "|gender|countryoforiginname|height|weight|age|overallrank|     division|is_scaled|Cat_gender|\n",
      "+------+-------------------+------+------+---+-----------+-------------+---------+----------+\n",
      "|     F|     United Kingdom|   1.7| 61.23| 37|          1|Women (35-39)|        0|         1|\n",
      "|     F|             Brazil|  1.74|  73.0| 36|          2|Women (35-39)|        0|         1|\n",
      "|     F|      United States|  1.57| 62.14| 35|          3|Women (35-39)|        0|         1|\n",
      "|     F|              Italy|   1.7|  71.0| 35|          4|Women (35-39)|        0|         1|\n",
      "|     F|      United States|  1.55| 61.23| 36|          5|Women (35-39)|        0|         1|\n",
      "|     F|      United States|  1.65| 66.68| 36|          6|Women (35-39)|        0|         1|\n",
      "|     F|             Brazil|   1.7|  72.0| 36|          7|Women (35-39)|        0|         1|\n",
      "|     F|      United States|  1.75| 68.95| 38|          8|Women (35-39)|        0|         1|\n",
      "|     F|        Switzerland|  1.64|  62.0| 38|          9|Women (35-39)|        0|         1|\n",
      "|     F|      United States|  1.67| 64.86| 36|         10|Women (35-39)|        0|         1|\n",
      "|     F|        New Zealand|   1.6| 58.97| 35|         11|Women (35-39)|        0|         1|\n",
      "|     F|             Brazil|  1.69|  77.0| 37|         12|Women (35-39)|        0|         1|\n",
      "|     F|              Italy|  1.63|  54.0| 39|         13|Women (35-39)|        0|         1|\n",
      "|     F|             Brazil|  1.55|  65.0| 35|         14|Women (35-39)|        0|         1|\n",
      "|     F|             Canada|  1.73|  69.0| 37|         15|Women (35-39)|        0|         1|\n",
      "|     F|      United States|   1.6|  62.6| 36|         16|Women (35-39)|        0|         1|\n",
      "|     F|      United States|  1.68| 68.04| 35|         17|Women (35-39)|        0|         1|\n",
      "|     F|             Canada|  1.68| 72.57| 36|         18|Women (35-39)|        0|         1|\n",
      "|     F|      United States|  1.57|  56.7| 35|         19|Women (35-39)|        0|         1|\n",
      "|     F|      United States|  1.75|  76.2| 37|         20|Women (35-39)|        0|         1|\n",
      "+------+-------------------+------+------+---+-----------+-------------+---------+----------+\n",
      "only showing top 20 rows\n",
      "\n"
     ]
    }
   ],
   "source": [
    "df.withColumn('Cat_gender', F.when(df['gender'] =='M', 1).when(df['gender'] =='F', 1)).show()"
   ]
  },
  {
   "cell_type": "markdown",
   "metadata": {},
   "source": [
    "Utlizando el comando distinct() podemos saber la cantidad de valores diferentes de una columna. En este caso es conveniente para saber la cantidad de paises diferentes de los cuales participaron atletas"
   ]
  },
  {
   "cell_type": "code",
   "execution_count": 40,
   "metadata": {},
   "outputs": [
    {
     "data": {
      "text/plain": [
       "158"
      ]
     },
     "execution_count": 40,
     "metadata": {},
     "output_type": "execute_result"
    }
   ],
   "source": [
    "df.select('countryoforiginname').distinct().count()"
   ]
  }
 ],
 "metadata": {
  "kernelspec": {
   "display_name": "Python 3",
   "language": "python",
   "name": "python3"
  },
  "language_info": {
   "codemirror_mode": {
    "name": "ipython",
    "version": 3
   },
   "file_extension": ".py",
   "mimetype": "text/x-python",
   "name": "python",
   "nbconvert_exporter": "python",
   "pygments_lexer": "ipython3",
   "version": "3.7.5"
  }
 },
 "nbformat": 4,
 "nbformat_minor": 2
}
