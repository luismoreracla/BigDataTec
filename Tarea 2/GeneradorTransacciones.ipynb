{
 "cells": [
  {
   "cell_type": "markdown",
   "metadata": {},
   "source": [
    "# Tarea 2\n",
    "### Luis Morera Claramunt"
   ]
  },
  {
   "cell_type": "markdown",
   "metadata": {},
   "source": [
    "A continuación se va a crear un generador de transacciones, se va a utilizar la base de datos original brindada como ejemplo de clase"
   ]
  },
  {
   "cell_type": "markdown",
   "metadata": {},
   "source": [
    "Primero se inicia sesion y se conecta a la base de datos 'transactions'"
   ]
  },
  {
   "cell_type": "code",
   "execution_count": 105,
   "metadata": {
    "scrolled": true
   },
   "outputs": [
    {
     "name": "stdout",
     "output_type": "stream",
     "text": [
      "+------+-----------+---+-------------------+\n",
      "|amount|customer_id| id|       purchased_at|\n",
      "+------+-----------+---+-------------------+\n",
      "|    55|          1|  1|2017-03-01 09:00:00|\n",
      "|   125|          1|  2|2017-03-01 10:00:00|\n",
      "|    32|          1|  3|2017-03-02 13:00:00|\n",
      "|    64|          1|  4|2017-03-02 15:00:00|\n",
      "|   128|          1|  5|2017-03-03 10:00:00|\n",
      "|   333|          2|  6|2017-03-01 09:00:00|\n",
      "|   334|          2|  7|2017-03-01 09:01:00|\n",
      "|   333|          2|  8|2017-03-01 09:02:00|\n",
      "|    11|          2|  9|2017-03-03 20:00:00|\n",
      "|    44|          2| 10|2017-03-03 20:15:00|\n",
      "| 17147|        445| 11|2015-03-30 04:52:06|\n",
      "+------+-----------+---+-------------------+\n",
      "\n"
     ]
    }
   ],
   "source": [
    "import findspark\n",
    "findspark.init('/Users/Luis/Desktop/spark/spark-2.4.4-bin-hadoop2.7')\n",
    "\n",
    "from datetime import datetime\n",
    "from pyspark.sql import SparkSession\n",
    "from pyspark.sql.functions import col, date_format, udf \n",
    "from pyspark.sql.types import DateType\n",
    "\n",
    "spark = SparkSession \\\n",
    "    .builder \\\n",
    "    .appName(\"Basic JDBC pipeline\") \\\n",
    "    .config(\"spark.jars\", \"./postgresql-42.2.9.jar\") \\\n",
    "    .getOrCreate()\n",
    "\n",
    "# Reading single DataFrame in Spark by retrieving all rows from a DB table.\n",
    "df = spark \\\n",
    "    .read \\\n",
    "    .format(\"jdbc\") \\\n",
    "    .option(\"url\", \"jdbc:postgresql://localhost:5432/transactions\") \\\n",
    "    .option(\"user\", \"postgres\") \\\n",
    "    .option(\"password\", \"password\") \\\n",
    "    .option(\"dbtable\", \"transactions\") \\\n",
    "    .load() \n",
    "    \n",
    "df.show()"
   ]
  },
  {
   "cell_type": "markdown",
   "metadata": {},
   "source": [
    "Se importan las librerias necesarias para calcular las nuevas transacciones"
   ]
  },
  {
   "cell_type": "code",
   "execution_count": 106,
   "metadata": {},
   "outputs": [],
   "source": [
    "import numpy as np\n",
    "import pandas as pd\n",
    "import random\n",
    "from datetime import datetime\n",
    "import time"
   ]
  },
  {
   "cell_type": "markdown",
   "metadata": {},
   "source": [
    "Se crea una función para generar la transacción aleatoria.\n",
    "La función toma como datos de entrada el máximo valor de compra, máximo id de comprador, fecha de inicio y fecha final, dentro de los cuales se van a generar los datos aleatorios."
   ]
  },
  {
   "cell_type": "code",
   "execution_count": 107,
   "metadata": {},
   "outputs": [],
   "source": [
    "# Funcion para generar una transaccion aleatoria\n",
    "def generateTransaction(max_amount, max_id, start, end):\n",
    "    \n",
    "    # Primero se calculan los montos comprados\n",
    "    amount = np.random.randint(max_amount)\n",
    "    \n",
    "    # Se calculan los ids de los compradores\n",
    "    customer_id = np.random.randint(max_id)\n",
    "    \n",
    "    # Se calcula la hora y dia de la compra como string y se hace convierte a tipo datetime\n",
    "    purchased_at_str = randomDate(start, end, random.random())\n",
    "    purchased_at = datetime.strptime(purchased_at_str, '%Y-%m-%d %H:%M:%S')\n",
    "    \n",
    "    # Creando el dataframe en pandas\n",
    "    data = [[amount, customer_id, purchased_at]]\n",
    "    pdf = pd.DataFrame(data, columns = ['amount', 'customer_id', 'purchased_at'])\n",
    "    \n",
    "    # Realizando la conversion de pandas a Spark\n",
    "    df = spark.createDataFrame(pdf)\n",
    "    \n",
    "    return df"
   ]
  },
  {
   "cell_type": "markdown",
   "metadata": {},
   "source": [
    "Se crea una función auxiliar para generar una fecha y tiempo aleatoria, la cual devuelve un objeto tipo string."
   ]
  },
  {
   "cell_type": "code",
   "execution_count": 108,
   "metadata": {},
   "outputs": [
    {
     "name": "stdout",
     "output_type": "stream",
     "text": [
      "2008-07-01 18:53:48\n"
     ]
    }
   ],
   "source": [
    "# Funcion para calcular una fecha y hora aleatoria\n",
    "def strTimeProp(start, end, format, prop):\n",
    "\n",
    "    stime = time.mktime(time.strptime(start, format))\n",
    "    etime = time.mktime(time.strptime(end, format))\n",
    "\n",
    "    ptime = stime + prop * (etime - stime)\n",
    "\n",
    "    return time.strftime(format, time.localtime(ptime))\n",
    "\n",
    "def randomDate(start, end, prop):\n",
    "    return strTimeProp(start, end, '%Y-%m-%d %H:%M:%S', prop)\n",
    "\n",
    "print(randomDate(\"2008-1-1 1:30:00\", \"2009-1-1 4:50:00\", random.random()))"
   ]
  },
  {
   "cell_type": "markdown",
   "metadata": {},
   "source": [
    "Se llama la función para generar la nueva transacción, ver los datos y los tipos de datos que contiene"
   ]
  },
  {
   "cell_type": "code",
   "execution_count": 109,
   "metadata": {
    "scrolled": true
   },
   "outputs": [
    {
     "name": "stdout",
     "output_type": "stream",
     "text": [
      "+------+-----------+-------------------+\n",
      "|amount|customer_id|       purchased_at|\n",
      "+------+-----------+-------------------+\n",
      "|  7376|        352|2016-06-10 15:54:55|\n",
      "+------+-----------+-------------------+\n",
      "\n",
      "root\n",
      " |-- amount: long (nullable = true)\n",
      " |-- customer_id: long (nullable = true)\n",
      " |-- purchased_at: timestamp (nullable = true)\n",
      "\n"
     ]
    }
   ],
   "source": [
    "new_transaction = generateTransaction(10000, 1000, \"2015-1-1 7:00:00\", \"2020-1-1 17:00:00\")\n",
    "new_transaction.show()\n",
    "new_transaction.printSchema()"
   ]
  },
  {
   "cell_type": "markdown",
   "metadata": {},
   "source": [
    "Se agrega la información generada a la base de datos"
   ]
  },
  {
   "cell_type": "code",
   "execution_count": 103,
   "metadata": {},
   "outputs": [],
   "source": [
    "new_transaction.write \\\n",
    "    .format(\"jdbc\") \\\n",
    "    .option(\"url\", \"jdbc:postgresql://localhost:5432/transactions\") \\\n",
    "    .option(\"user\", \"postgres\") \\\n",
    "    .option(\"password\", \"password\") \\\n",
    "    .option(\"dbtable\", \"transactions\") \\\n",
    "    .mode('append') \\\n",
    "    .save()"
   ]
  }
 ],
 "metadata": {
  "kernelspec": {
   "display_name": "Python 3",
   "language": "python",
   "name": "python3"
  },
  "language_info": {
   "codemirror_mode": {
    "name": "ipython",
    "version": 3
   },
   "file_extension": ".py",
   "mimetype": "text/x-python",
   "name": "python",
   "nbconvert_exporter": "python",
   "pygments_lexer": "ipython3",
   "version": "3.7.5"
  }
 },
 "nbformat": 4,
 "nbformat_minor": 2
}
